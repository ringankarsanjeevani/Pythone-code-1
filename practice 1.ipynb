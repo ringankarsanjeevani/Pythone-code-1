{
 "cells": [
  {
   "cell_type": "markdown",
   "id": "a92612f6",
   "metadata": {},
   "source": [
    "# yourself introduction"
   ]
  },
  {
   "cell_type": "code",
   "execution_count": 2,
   "id": "9b1cca89",
   "metadata": {},
   "outputs": [],
   "source": [
    "name='sanjeevani'"
   ]
  },
  {
   "cell_type": "code",
   "execution_count": 3,
   "id": "51afad81",
   "metadata": {},
   "outputs": [],
   "source": [
    "surname='ringankar'"
   ]
  },
  {
   "cell_type": "code",
   "execution_count": 8,
   "id": "a3a0b3a5",
   "metadata": {},
   "outputs": [
    {
     "name": "stdout",
     "output_type": "stream",
     "text": [
      "sanjeevaniringankar\n"
     ]
    }
   ],
   "source": [
    "print(name +surname)"
   ]
  },
  {
   "cell_type": "code",
   "execution_count": 9,
   "id": "54efa738",
   "metadata": {},
   "outputs": [
    {
     "name": "stdout",
     "output_type": "stream",
     "text": [
      "sanjeevani ringankar\n"
     ]
    }
   ],
   "source": [
    "print(name + ' ' + surname)"
   ]
  },
  {
   "cell_type": "code",
   "execution_count": 12,
   "id": "55b52475",
   "metadata": {},
   "outputs": [],
   "source": [
    "msg= \"completed gratuation in electrical engg\""
   ]
  },
  {
   "cell_type": "code",
   "execution_count": 13,
   "id": "99d57542",
   "metadata": {},
   "outputs": [
    {
     "data": {
      "text/plain": [
       "'completed gratuation in electrical engg'"
      ]
     },
     "execution_count": 13,
     "metadata": {},
     "output_type": "execute_result"
    }
   ],
   "source": [
    "msg"
   ]
  },
  {
   "cell_type": "code",
   "execution_count": 1,
   "id": "14da6c02",
   "metadata": {},
   "outputs": [],
   "source": [
    "place= \" i live in pune\""
   ]
  },
  {
   "cell_type": "code",
   "execution_count": 8,
   "id": "14549f0a",
   "metadata": {},
   "outputs": [
    {
     "data": {
      "text/plain": [
       "' i live in pune'"
      ]
     },
     "execution_count": 8,
     "metadata": {},
     "output_type": "execute_result"
    }
   ],
   "source": [
    "place"
   ]
  },
  {
   "cell_type": "markdown",
   "id": "073b1c60",
   "metadata": {},
   "source": [
    "### airthmatic operation"
   ]
  },
  {
   "cell_type": "markdown",
   "id": "0f66b86f",
   "metadata": {},
   "source": [
    "### addition"
   ]
  },
  {
   "cell_type": "code",
   "execution_count": 7,
   "id": "c0b60341",
   "metadata": {},
   "outputs": [
    {
     "name": "stdout",
     "output_type": "stream",
     "text": [
      "Enter the first number23\n",
      "Enter the second number45\n",
      "Sum is 68\n"
     ]
    }
   ],
   "source": [
    "num = int(input('Enter the first number'))\n",
    "num1= int(input('Enter the second number'))\n",
    "res = num + num1\n",
    "print('Sum is',res)"
   ]
  },
  {
   "cell_type": "markdown",
   "id": "41a005f9",
   "metadata": {},
   "source": [
    "### substraction"
   ]
  },
  {
   "cell_type": "code",
   "execution_count": 9,
   "id": "fd141c78",
   "metadata": {},
   "outputs": [
    {
     "name": "stdout",
     "output_type": "stream",
     "text": [
      "Enter the first number98\n",
      "Enter the second number57\n",
      "diffrence is 41\n"
     ]
    }
   ],
   "source": [
    "num = int(input('Enter the first number'))\n",
    "num1= int(input('Enter the second number'))\n",
    "res = num - num1\n",
    "print('diffrence is',res)"
   ]
  },
  {
   "cell_type": "markdown",
   "id": "7c4b7f53",
   "metadata": {},
   "source": [
    "### multipcation"
   ]
  },
  {
   "cell_type": "code",
   "execution_count": 10,
   "id": "bf82a5b8",
   "metadata": {},
   "outputs": [
    {
     "name": "stdout",
     "output_type": "stream",
     "text": [
      "Enter the first number22\n",
      "Enter the second number22\n",
      "multipcation is 484\n"
     ]
    }
   ],
   "source": [
    "num = int(input('Enter the first number'))\n",
    "num1= int(input('Enter the second number'))\n",
    "res = num * num1\n",
    "print('multipcation is',res)"
   ]
  },
  {
   "cell_type": "markdown",
   "id": "ee960538",
   "metadata": {},
   "source": [
    "### division"
   ]
  },
  {
   "cell_type": "code",
   "execution_count": 11,
   "id": "db4296a4",
   "metadata": {},
   "outputs": [
    {
     "name": "stdout",
     "output_type": "stream",
     "text": [
      "Enter the first number200\n",
      "Enter the second number4\n",
      "division is 50.0\n"
     ]
    }
   ],
   "source": [
    "num = int(input('Enter the first number'))\n",
    "num1= int(input('Enter the second number'))\n",
    "res = num / num1\n",
    "print('division is',res)"
   ]
  },
  {
   "cell_type": "markdown",
   "id": "5487ee63",
   "metadata": {},
   "source": [
    "### modulus"
   ]
  },
  {
   "cell_type": "code",
   "execution_count": 2,
   "id": "40184ff3",
   "metadata": {},
   "outputs": [
    {
     "name": "stdout",
     "output_type": "stream",
     "text": [
      "Enter the first number88\n",
      "Enter the second number2\n",
      " modulus is 0\n"
     ]
    }
   ],
   "source": [
    "num = int(input('Enter the first number'))\n",
    "num1= int(input('Enter the second number'))\n",
    "res = num % num1\n",
    "print(' modulus is',res)"
   ]
  },
  {
   "cell_type": "markdown",
   "id": "e41cc69d",
   "metadata": {},
   "source": [
    "###  exponent"
   ]
  },
  {
   "cell_type": "code",
   "execution_count": 3,
   "id": "21055553",
   "metadata": {},
   "outputs": [
    {
     "name": "stdout",
     "output_type": "stream",
     "text": [
      "Enter the first number5\n",
      "Enter the second number6\n",
      "exponent is 15625\n"
     ]
    }
   ],
   "source": [
    "num = int(input('Enter the first number'))\n",
    "num1= int(input('Enter the second number'))\n",
    "res = num ** num1\n",
    "print('exponent is',res)"
   ]
  },
  {
   "cell_type": "markdown",
   "id": "918b7deb",
   "metadata": {},
   "source": [
    "# swap to number"
   ]
  },
  {
   "cell_type": "code",
   "execution_count": 4,
   "id": "7b7de125",
   "metadata": {},
   "outputs": [
    {
     "name": "stdout",
     "output_type": "stream",
     "text": [
      "enter the valu for p34\n",
      "enter the valu for q56\n",
      "the valu of p after swapping: 56\n",
      "the valu of q after swapping: 34\n"
     ]
    }
   ],
   "source": [
    "p=int(input(\"enter the valu for p\"))\n",
    "q=int(input(\"enter the valu for q\"))\n",
    "temp=p\n",
    "p=q\n",
    "q=temp\n",
    "print(\"the valu of p after swapping:\",p)\n",
    "print(\"the valu of q after swapping:\",q)"
   ]
  },
  {
   "cell_type": "markdown",
   "id": "0073cd62",
   "metadata": {},
   "source": [
    "## swap two number without third varibal"
   ]
  },
  {
   "cell_type": "code",
   "execution_count": 5,
   "id": "ac68c9ca",
   "metadata": {},
   "outputs": [
    {
     "name": "stdout",
     "output_type": "stream",
     "text": [
      "enter the valu for a24\n",
      "enter the valu for b34\n",
      "valu of a: 24\n",
      "valu of b: 34\n",
      "valu before swapping\n",
      "valu after swapping\n",
      "valu of a: 34\n",
      "valu of b 24\n"
     ]
    }
   ],
   "source": [
    " a=int(input(\"enter the valu for a\"))\n",
    "b=int(input(\"enter the valu for b\"))\n",
    "print(\"valu of a:\",a)\n",
    "print(\"valu of b:\",b)\n",
    "print(\"valu before swapping\") \n",
    "a,b=b,a\n",
    "print(\"valu after swapping\")\n",
    "print(\"valu of a:\",a)\n",
    "print(\"valu of b\",b)\n"
   ]
  },
  {
   "cell_type": "markdown",
   "id": "33f4ffcf",
   "metadata": {},
   "source": [
    "## to compute simpal intrest"
   ]
  },
  {
   "cell_type": "code",
   "execution_count": 6,
   "id": "c86a000e",
   "metadata": {},
   "outputs": [
    {
     "name": "stdout",
     "output_type": "stream",
     "text": [
      "Enter the amount: 12\n",
      "Enter the number of years: 32\n",
      "Enter the rate of interest: 56\n",
      "The simple interset is: 215.04\n"
     ]
    }
   ],
   "source": [
    "Amount = int(input(\"Enter the amount: \"))\n",
    "Year = int(input(\"Enter the number of years: \"))\n",
    "Rate = float(input(\"Enter the rate of interest: \"))\n",
    "SimpleInterset = (Amount*Year*Rate)/100\n",
    "\n",
    "print(\"The simple interset is:\", SimpleInterset)\n"
   ]
  },
  {
   "cell_type": "markdown",
   "id": "d2c159c5",
   "metadata": {},
   "source": [
    "## average of five number by user input"
   ]
  },
  {
   "cell_type": "code",
   "execution_count": 1,
   "id": "f9c0b597",
   "metadata": {},
   "outputs": [
    {
     "name": "stdout",
     "output_type": "stream",
     "text": [
      "Enter first number: 5\n",
      "Enter second number: 10\n",
      "Enter third number: 15\n",
      "Enter four number: 20\n",
      "Enter fifth number: 25\n",
      "The average of numbers=  15.0\n"
     ]
    }
   ],
   "source": [
    " num1 = int(input('Enter first number: '))\n",
    "num2 = int(input('Enter second number: '))\n",
    "num3 = int(input('Enter third number: '))\n",
    "num4 = int(input('Enter four number: '))\n",
    "num5 = int(input('Enter fifth number: '))\n",
    "\n",
    "avg = (num1 + num2 + num3 + num4 + num5) / 5\n",
    "\n",
    "\n",
    "print('The average of numbers= ' ,avg)\n"
   ]
  },
  {
   "cell_type": "markdown",
   "id": "00f6e8a4",
   "metadata": {},
   "source": [
    "## discriminant of qudratic equatio"
   ]
  },
  {
   "cell_type": "code",
   "execution_count": 2,
   "id": "d48a6218",
   "metadata": {},
   "outputs": [
    {
     "name": "stdout",
     "output_type": "stream",
     "text": [
      "Enter a: 8\n",
      "Enter b: 10\n",
      "Enter c: 5\n",
      "-60.0\n"
     ]
    }
   ],
   "source": [
    "\n",
    "a = float(input('Enter a: '))\n",
    "b = float(input('Enter b: '))\n",
    "c = float(input('Enter c: '))\n",
    "d = (b**2) - (4*a*c)\n",
    "print(d)\n"
   ]
  },
  {
   "cell_type": "markdown",
   "id": "cd9cf420",
   "metadata": {},
   "source": [
    "### areas of shape"
   ]
  },
  {
   "cell_type": "markdown",
   "id": "b3913ccb",
   "metadata": {},
   "source": [
    "## rectangale"
   ]
  },
  {
   "cell_type": "code",
   "execution_count": 7,
   "id": "a9184d74",
   "metadata": {},
   "outputs": [
    {
     "name": "stdout",
     "output_type": "stream",
     "text": [
      "Enter the length of a Rectangle: 67\n",
      "Enter the breadth of a Rectangle: 23\n",
      "Area of a Rectangle is= 1541.0\n"
     ]
    }
   ],
   "source": [
    "l = float(input('Enter the length of a Rectangle: '))\n",
    "b = float(input('Enter the breadth of a Rectangle: '))\n",
    "Area = l * b\n",
    "print(\"Area of a Rectangle is=\", Area)\n"
   ]
  },
  {
   "cell_type": "markdown",
   "id": "814604af",
   "metadata": {},
   "source": [
    "## square"
   ]
  },
  {
   "cell_type": "code",
   "execution_count": 8,
   "id": "818c3a16",
   "metadata": {},
   "outputs": [
    {
     "name": "stdout",
     "output_type": "stream",
     "text": [
      "Enter the side:7\n",
      "Area of the square= 49\n"
     ]
    }
   ],
   "source": [
    "side = int(input(\"Enter the side:\"))\n",
    "Area = side*side\n",
    "print(\"Area of the square=\",(Area))\n"
   ]
  },
  {
   "cell_type": "markdown",
   "id": "0dad9d39",
   "metadata": {},
   "source": [
    "## trangle"
   ]
  },
  {
   "cell_type": "code",
   "execution_count": 9,
   "id": "d700874e",
   "metadata": {},
   "outputs": [
    {
     "name": "stdout",
     "output_type": "stream",
     "text": [
      "Input the base : 20\n",
      "Input the height : 10\n",
      "area =  100.0\n"
     ]
    }
   ],
   "source": [
    "b = int(input(\"Input the base : \"))\n",
    "h = int(input(\"Input the height : \"))\n",
    "\n",
    "area = b*h/2\n",
    "\n",
    "print(\"area = \", area)\n",
    "\n"
   ]
  },
  {
   "cell_type": "markdown",
   "id": "0d6704ab",
   "metadata": {},
   "source": [
    "## circle"
   ]
  },
  {
   "cell_type": "code",
   "execution_count": 10,
   "id": "c3b1d138",
   "metadata": {},
   "outputs": [
    {
     "name": "stdout",
     "output_type": "stream",
     "text": [
      "Enter the radius of Circle : 4\n",
      "Area :  50.24\n"
     ]
    }
   ],
   "source": [
    "r = float(input(\"Enter the radius of Circle : \" ))\n",
    "PI = 3.14\n",
    "\n",
    "area = PI * r * r\n",
    "\n",
    "print(\"Area : \",area)\n"
   ]
  },
  {
   "cell_type": "markdown",
   "id": "2039fd54",
   "metadata": {},
   "source": [
    "## power of number"
   ]
  },
  {
   "cell_type": "code",
   "execution_count": 11,
   "id": "dc09254a",
   "metadata": {},
   "outputs": [
    {
     "name": "stdout",
     "output_type": "stream",
     "text": [
      "9\n"
     ]
    }
   ],
   "source": [
    "num, power = 3, 2\n",
    "print(num**power)\n"
   ]
  },
  {
   "cell_type": "markdown",
   "id": "b4b17300",
   "metadata": {},
   "source": [
    "## python version"
   ]
  },
  {
   "cell_type": "code",
   "execution_count": 1,
   "id": "311df5ab",
   "metadata": {},
   "outputs": [
    {
     "name": "stdout",
     "output_type": "stream",
     "text": [
      "3.9.13\n"
     ]
    }
   ],
   "source": [
    "import platform\n",
    "print(platform.python_version())\n"
   ]
  },
  {
   "cell_type": "markdown",
   "id": "bf18ad79",
   "metadata": {},
   "source": [
    "## calculate salary"
   ]
  },
  {
   "cell_type": "code",
   "execution_count": null,
   "id": "a6712544",
   "metadata": {},
   "outputs": [],
   "source": [
    "name= str(input(\"Enter name of employee:\"))\n",
    "basic=float(input(\"Enter Basic Salary :\"))\n",
    "DA = 5% of Basic,\n",
    "HRA = 7% of Basic,\n",
    "PF = 3% of Basic,\n"
   ]
  }
 ],
 "metadata": {
  "kernelspec": {
   "display_name": "Python 3 (ipykernel)",
   "language": "python",
   "name": "python3"
  },
  "language_info": {
   "codemirror_mode": {
    "name": "ipython",
    "version": 3
   },
   "file_extension": ".py",
   "mimetype": "text/x-python",
   "name": "python",
   "nbconvert_exporter": "python",
   "pygments_lexer": "ipython3",
   "version": "3.9.13"
  }
 },
 "nbformat": 4,
 "nbformat_minor": 5
}
